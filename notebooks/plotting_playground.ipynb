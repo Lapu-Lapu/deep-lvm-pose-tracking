{
 "cells": [
  {
   "cell_type": "code",
   "execution_count": null,
   "metadata": {},
   "outputs": [],
   "source": [
    "%load_ext autoreload\n",
    "%load_ext tikzmagic\n",
    "%autoreload 2"
   ]
  },
  {
   "cell_type": "code",
   "execution_count": null,
   "metadata": {},
   "outputs": [],
   "source": [
    "import graphviz\n",
    "\n",
    "import deep_lvm_pose_tracking.toy_data as toy\n",
    "import deep_lvm_pose_tracking.notebook_utils as nu\n",
    "import numpy as np\n",
    "import matplotlib.pyplot as plt"
   ]
  },
  {
   "cell_type": "code",
   "execution_count": null,
   "metadata": {},
   "outputs": [],
   "source": [
    "# pgm = nu.plot_pgm()\n",
    "pgm = nu.make_vae_graph()\n",
    "ax = pgm.render(dpi=120)"
   ]
  },
  {
   "cell_type": "code",
   "execution_count": null,
   "metadata": {},
   "outputs": [],
   "source": [
    "pgm = nu.make_cvae_graph()\n",
    "ax = pgm.render(dpi=120)"
   ]
  },
  {
   "cell_type": "code",
   "execution_count": null,
   "metadata": {},
   "outputs": [],
   "source": [
    "angles = np.array([[0, -90, 45]]) * np.pi/180\n",
    "h = toy.HierarchyImages(angles, bone_lengths=[8, 11, 10], key_marker_width=3, img_shape=(64, 64))\n",
    "plt.imshow(h[0]['image'])\n",
    "# plt.savefig('../media/poseimage.pdf')"
   ]
  },
  {
   "cell_type": "code",
   "execution_count": null,
   "metadata": {},
   "outputs": [],
   "source": [
    "d = graphviz.Digraph(graph_attr={'rankdir': 'LR', 'ratio': 'compress'}, engine='dot')\n",
    "\n",
    "with d.subgraph(name='cluster_0') as c:\n",
    "    c.attr(style='invis')\n",
    "    c.node('1', 'input\\npose', shape='box')\n",
    "    c.node('2' , 'encoder', texlbl=r'encoder\\\\$q(z|x; \\phi)$', shape='box')\n",
    "    c.node('5', 'sampled\\nlatent\\nz_i', shape='box')\n",
    "    c.node('6', 'decoder', shape='box')\n",
    "    c.node('7', 'output\\nparameters\\n\\phi', shape='box')\n",
    "    c.edges(['12', '56', '67'])\n",
    "    c.edges(['23', '35',])\n",
    "    c.node('3', 'theta', texlbl=r'variational\\\\parameters\\\\$\\theta$', shape='box')\n",
    "        \n",
    "d.node('8', label='epsilon', texlbl=r'$\\varepsilon\\sim\\mathcal{N}(0,1)$')\n",
    "d.node('9', 'image', texlbl=r'image\\\\$c_i$', shape='box')\n",
    "d.edges(['92', '96', '85'])\n",
    "\n",
    "# use this to generate tikz, which is then manually adapted\n",
    "# with open('../media/pgm_graph.dot', 'w') as df:\n",
    "#     df.write(str(d))\n",
    "d"
   ]
  },
  {
   "cell_type": "markdown",
   "metadata": {},
   "source": [
    "Steps to reproduce cvae_graph.pdf:\n",
    "\n",
    "1. generate dot-file with this notebook\n",
    "2. use `dot2tex -ftikz pgm_graph.dot > graph.tex`\n",
    "3. edit this file: use standalone and use align=center to make linebreaks and math-mode work.\n",
    "4. use ipython-tikzmagic for finetuning!"
   ]
  },
  {
   "cell_type": "code",
   "execution_count": null,
   "metadata": {},
   "outputs": [],
   "source": [
    "pre = r\"\"\"\n",
    "\\usepackage{xcolor,amsmath}\n",
    "\\usetikzlibrary{snakes,arrows,shapes}\n",
    "\"\"\""
   ]
  },
  {
   "cell_type": "code",
   "execution_count": null,
   "metadata": {},
   "outputs": [],
   "source": [
    "%%tikz -s 1200,380 -sc 0.7 -f svg -x $pre -S ../media/vae_graph.svg\n",
    "\\node (1) at (13.0bp,97.0bp) [draw,rectangle,align=center] {input\\\\$x_i$\\\\\\includegraphics[width=.2\\textwidth]{/home/benjamin/git/projects/pose_tracking_project/media/poseimage.pdf}};\n",
    "\\node (2) at (146.0bp,97.0bp) [draw,rectangle,align=center] {$\\text{NN}_\\text{encoder}$\\\\$q_\\phi(z_i|x_i )$};\n",
    "\\node (3) at (263.2bp,99.0bp) [draw,rectangle,align=center] {variational\\\\parameters\\\\$\\mu(z_i), \\sigma^2(z_i)$};\n",
    "\\node (5) at (381.89bp,103.0bp) [draw,rectangle,align=center] {sampled\\\\latent\\\\$z_i$};\n",
    "\\node (6) at (493.39bp,103.0bp) [draw,rectangle,align=center] {$\\text{NN}_\\text{decoder}$\\\\$p_\\theta(x_i|z_i)$};\n",
    "\\node (7) at (615.89bp,97.0bp) [draw,rectangle,align=center] {output\\\\$\\eta_i$\\\\\\includegraphics[width=.2\\textwidth]{/home/benjamin/git/projects/pose_tracking_project/media/poseimage.pdf}};\n",
    "\\node (8) at (263.2bp,42.0bp) [draw,ellipse] {$\\varepsilon_i\\sim\\mathcal{N}(0,1)$};\n",
    "\\draw [->] (1) ..controls (78.821bp,97.0bp) and (88.808bp,97.0bp)  .. (2);\n",
    "\\draw [->] (2) ..controls (196.76bp,97.866bp) and (212.26bp,98.131bp)  .. (3);\n",
    "\\draw [->] (5) ..controls (428.8bp,103.0bp) and (437.58bp,103.0bp)  .. (6);\n",
    "\\draw [->] (6) ..controls (538.58bp,103.0bp) and (547.35bp,103.0bp)  .. (7);\n",
    "\\draw [->] (3) ..controls (302.98bp,100.34bp) and (318.29bp,100.86bp)  .. (5);\n",
    "\\draw [->] (8) ..controls (296.98bp,58.719bp) and (302.35bp,61.428bp)  .. (307.39bp,64.0bp) .. controls (316.08bp,68.434bp) and (325.3bp,73.21bp)  .. (5);"
   ]
  },
  {
   "cell_type": "code",
   "execution_count": null,
   "metadata": {},
   "outputs": [],
   "source": [
    "%%tikz -s 1200,380 -sc 0.7 -f svg -x $pre -S ../media/cvae_graph.svg\n",
    "\\node (1) at (13.0bp,97.0bp) [draw,rectangle,align=center] {input\\\\pose\\\\$x_i=(0, -90, 45)$};\n",
    "\\node (2) at (146.0bp,97.0bp) [draw,rectangle,align=center] {$\\text{NN}_\\text{encoder}$\\\\$q(z_i|x_i, c_i; \\phi)$};\n",
    "\\node (3) at (263.2bp,99.0bp) [draw,rectangle,align=center] {variational\\\\parameters\\\\$\\mu(z_i), \\sigma^2(z_i)$};\n",
    "\\node (5) at (381.89bp,103.0bp) [draw,rectangle,align=center] {sampled\\\\latent\\\\$z_i$};\n",
    "\\node (6) at (493.39bp,103.0bp) [draw,rectangle,align=center] {$\\text{NN}_\\text{decoder}$\\\\$p(x_i|z_i,c_i;\\gamma)$};\n",
    "\\node (7) at (615.89bp,103.0bp) [draw,rectangle,align=center] {output\\\\parameters\\\\$\\phi$};\n",
    "\\node (8) at (263.2bp,42.0bp) [draw,ellipse] {$\\varepsilon_i\\sim\\mathcal{N}(0,1)$};\n",
    "\\node (9) at (14.0bp,9.0bp) [draw,rectangle,align=center] {image\\\\$c_i$\\\\\\includegraphics[width=.2\\textwidth]{/home/benjamin/git/projects/pose_tracking_project/media/poseimage.pdf}};\n",
    "\\draw [->] (1) ..controls (78.821bp,97.0bp) and (88.808bp,97.0bp)  .. (2);\n",
    "\\draw [->] (2) ..controls (196.76bp,97.866bp) and (212.26bp,98.131bp)  .. (3);\n",
    "\\draw [->] (5) ..controls (428.8bp,103.0bp) and (437.58bp,103.0bp)  .. (6);\n",
    "\\draw [->] (6) ..controls (538.58bp,103.0bp) and (547.35bp,103.0bp)  .. (7);\n",
    "\\draw [->] (3) ..controls (302.98bp,100.34bp) and (318.29bp,100.86bp)  .. (5);\n",
    "\\draw [->] (8) ..controls (296.98bp,58.719bp) and (302.35bp,61.428bp)  .. (307.39bp,64.0bp) .. controls (316.08bp,68.434bp) and (325.3bp,73.21bp)  .. (5);\n",
    "\\draw [->] (9) ..controls (80.762bp,46.963bp) and (98.9bp,60.875bp)  .. (2);\n",
    "\\draw [->] (9) ..controls (122.79bp,6.373bp) and (224.28bp,-3.5231bp)  .. (307.39bp,15.0bp) .. controls (362.52bp,27.286bp) and (420.5bp,57.961bp)  .. (6);"
   ]
  },
  {
   "cell_type": "code",
   "execution_count": null,
   "metadata": {},
   "outputs": [],
   "source": []
  }
 ],
 "metadata": {
  "kernelspec": {
   "display_name": "Python [conda env:deepLVM]",
   "language": "python",
   "name": "conda-env-deepLVM-py"
  },
  "language_info": {
   "codemirror_mode": {
    "name": "ipython",
    "version": 3
   },
   "file_extension": ".py",
   "mimetype": "text/x-python",
   "name": "python",
   "nbconvert_exporter": "python",
   "pygments_lexer": "ipython3",
   "version": "3.7.3"
  }
 },
 "nbformat": 4,
 "nbformat_minor": 2
}
