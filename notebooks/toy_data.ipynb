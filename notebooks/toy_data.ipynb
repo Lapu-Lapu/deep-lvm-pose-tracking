{
 "cells": [
  {
   "cell_type": "code",
   "execution_count": null,
   "metadata": {},
   "outputs": [],
   "source": [
    "%load_ext autoreload\n",
    "%autoreload 2"
   ]
  },
  {
   "cell_type": "code",
   "execution_count": null,
   "metadata": {},
   "outputs": [],
   "source": [
    "import numpy as np\n",
    "import matplotlib.pyplot as plt\n",
    "import sys\n",
    "import torch\n",
    "\n",
    "sys.path.append('../code')\n",
    "\n",
    "import toy_data as toy\n",
    "from vae import VAE"
   ]
  },
  {
   "cell_type": "code",
   "execution_count": null,
   "metadata": {},
   "outputs": [],
   "source": [
    "N = 10000\n",
    "batch_size = 10\n",
    "\n",
    "a, b = (np.random.rand(2)+1)/2\n",
    "print(a, b)\n",
    "labels = 2*np.pi*(np.random.rand(N, 2)-0.5)\n",
    "\n",
    "batch_generator = toy.make_batch_generator(labels, [a,b], batch_size)\n",
    "\n",
    "plt.imshow(batch_generator.__next__()[0][0, 0])"
   ]
  },
  {
   "cell_type": "code",
   "execution_count": null,
   "metadata": {},
   "outputs": [],
   "source": [
    "def plot_mean_variance_imgs():\n",
    "    average = np.zeros((28, 28))\n",
    "    dev = np.zeros((28, 28))\n",
    "    labels = 2*np.pi*(np.random.rand(N, 2)-0.5)\n",
    "    batch_generator = list(toy.make_batch_generator(labels, [a,b], batch_size))\n",
    "    for i, (batch_img, _ ) in enumerate(batch_generator):\n",
    "        average = average + np.sum(batch_img[:, 0], axis=0)\n",
    "        dev = dev + np.sum(batch_img[:, 0]**2, axis=0)\n",
    "    average = average/i\n",
    "    dev = dev/i\n",
    "\n",
    "    fig, ax = plt.subplots(ncols=2)\n",
    "    ax[0].imshow(average)\n",
    "    ax[1].imshow(average**2-dev)"
   ]
  },
  {
   "cell_type": "code",
   "execution_count": null,
   "metadata": {},
   "outputs": [],
   "source": [
    "device = torch.device(\"cpu\")\n",
    "bottleneck = 10\n",
    "model = VAE(bottleneck=bottleneck).to(device)\n",
    "train_loss = model.fit(batch_generator, max_iter=200)"
   ]
  },
  {
   "cell_type": "code",
   "execution_count": null,
   "metadata": {},
   "outputs": [],
   "source": [
    "plt.plot(train_loss)"
   ]
  },
  {
   "cell_type": "code",
   "execution_count": null,
   "metadata": {},
   "outputs": [],
   "source": [
    "with torch.no_grad():\n",
    "    sample = torch.randn(9, bottleneck).to(device)\n",
    "    sample = model.decode(sample).cpu()"
   ]
  },
  {
   "cell_type": "code",
   "execution_count": null,
   "metadata": {},
   "outputs": [],
   "source": [
    "from itertools import product\n",
    "to_ind = np.array(list(product(range(3), range(3))))\n",
    "\n",
    "fig, ax = plt.subplots(3, 3, sharex=True, sharey=True)\n",
    "fig.set_size_inches((10, 10))\n",
    "for i, img in enumerate(np.array(sample)):\n",
    "    ind = to_ind[i]\n",
    "    ax[ind[0], ind[1]].imshow(img.reshape(28, 28))\n",
    "plt.tight_layout()\n",
    "plt.show()"
   ]
  }
 ],
 "metadata": {
  "kernelspec": {
   "display_name": "Python (testing)",
   "language": "python",
   "name": "testing"
  },
  "language_info": {
   "codemirror_mode": {
    "name": "ipython",
    "version": 3
   },
   "file_extension": ".py",
   "mimetype": "text/x-python",
   "name": "python",
   "nbconvert_exporter": "python",
   "pygments_lexer": "ipython3",
   "version": "3.6.8"
  }
 },
 "nbformat": 4,
 "nbformat_minor": 2
}
