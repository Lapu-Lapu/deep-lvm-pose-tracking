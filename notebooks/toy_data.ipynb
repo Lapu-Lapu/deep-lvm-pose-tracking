{
 "cells": [
  {
   "cell_type": "code",
   "execution_count": 1,
   "metadata": {},
   "outputs": [],
   "source": [
    "import numpy as np\n",
    "import matplotlib.pyplot as plt"
   ]
  },
  {
   "cell_type": "code",
   "execution_count": 27,
   "metadata": {},
   "outputs": [],
   "source": [
    "def forward(angles, armlengths=None):\n",
    "    if armlengths is None:\n",
    "        armlengths = np.ones_like(angles)\n",
    "    else:\n",
    "        assert len(angles) == len(armlengths)\n",
    "    coords = [(0, 0)]\n",
    "    for angle, bone in zip(angles, armlengths):\n",
    "        offs = coords[-1]\n",
    "        print(offs)\n",
    "        coords += [(bone * np.cos(angle) + offs[0],\n",
    "                               bone *  np.sin(angle) + offs[1])]\n",
    "    return coords"
   ]
  },
  {
   "cell_type": "code",
   "execution_count": 25,
   "metadata": {},
   "outputs": [],
   "source": [
    "def plot_keypoints(coords):\n",
    "    for i, (x, y) in enumerate(coords):\n",
    "        plt.scatter(x, y)\n",
    "    plt.legend(range(len(coords)))\n",
    "    plt.show()"
   ]
  },
  {
   "cell_type": "code",
   "execution_count": 31,
   "metadata": {},
   "outputs": [
    {
     "name": "stdout",
     "output_type": "stream",
     "text": [
      "(0, 0)\n",
      "(1.0, 0.0)\n"
     ]
    },
    {
     "data": {
      "image/png": "[encoded data removed]",
      "text/plain": [
       "<Figure size 432x288 with 1 Axes>"
      ]
     },
     "metadata": {
      "needs_background": "light"
     },
     "output_type": "display_data"
    }
   ],
   "source": [
    "plot_keypoints(forward([0, np.pi/2]))"
   ]
  }
 ],
 "metadata": {
  "kernelspec": {
   "display_name": "Posetracking",
   "language": "python",
   "name": "posetracking"
  },
  "language_info": {
   "codemirror_mode": {
    "name": "ipython",
    "version": 3
   },
   "file_extension": ".py",
   "mimetype": "text/x-python",
   "name": "python",
   "nbconvert_exporter": "python",
   "pygments_lexer": "ipython3",
   "version": "3.6.6"
  }
 },
 "nbformat": 4,
 "nbformat_minor": 2
}
