{
 "cells": [
  {
   "cell_type": "code",
   "execution_count": null,
   "metadata": {},
   "outputs": [],
   "source": [
    "%load_ext autoreload\n",
    "%autoreload 2\n",
    "%matplotlib inline"
   ]
  },
  {
   "cell_type": "code",
   "execution_count": null,
   "metadata": {},
   "outputs": [],
   "source": [
    "import numpy as np\n",
    "import matplotlib.pyplot as plt\n",
    "\n",
    "from matplotlib import animation, rc\n",
    "from IPython.display import HTML\n",
    "\n",
    "import numpy as np\n",
    "import matplotlib.pyplot as plt\n",
    "import sys\n",
    "import torch\n",
    "\n",
    "sys.path.append('../code')\n",
    "\n",
    "import toy_data as toy\n",
    "from vae import VAE\n",
    "\n",
    "from sklearn import gaussian_process"
   ]
  },
  {
   "cell_type": "code",
   "execution_count": null,
   "metadata": {},
   "outputs": [],
   "source": [
    "N = 2500\n",
    "batch_size = 32\n",
    "\n",
    "# introduce time dependency\n",
    "rbf = gaussian_process.kernels.RBF(length_scale=2)\n",
    "GP = gaussian_process.GaussianProcessRegressor(kernel=rbf)\n",
    "\n",
    "t = np.linspace(0, 120, N)\n",
    "y = np.empty((N, 3))\n",
    "y[:, 0] = GP.sample_y(t[:, None], random_state=None)[:, 0]\n",
    "y[:, 1] = GP.sample_y(t[:, None], random_state=None)[:, 0]\n",
    "y[:, 2] = GP.sample_y(t[:, None], random_state=None)[:, 0]\n",
    "labels = y\n",
    "\n",
    "plt.plot(t, labels)"
   ]
  },
  {
   "cell_type": "code",
   "execution_count": null,
   "metadata": {},
   "outputs": [],
   "source": [
    "a, b, c = (np.random.rand(3)+1)/2\n",
    "imgs = []\n",
    "for label in labels:\n",
    "    coords = toy.forward(label, [a, b, c])\n",
    "    imgs += [toy.keypoint_to_image(coords)]"
   ]
  },
  {
   "cell_type": "code",
   "execution_count": null,
   "metadata": {},
   "outputs": [],
   "source": [
    "fig, ax = plt.subplots()\n",
    "img = imgs[0]\n",
    "mimg = plt.imshow(img)\n",
    "\n",
    "def init():\n",
    "    mimg.set_data(img)\n",
    "    return (mimg,)\n",
    "\n",
    "def animate(i):\n",
    "    img = imgs[2*i]\n",
    "    mimg.set_data(img)\n",
    "    return (mimg,)\n",
    "\n",
    "anim = animation.FuncAnimation(fig, animate, init_func=init,\n",
    "                               frames=len(imgs)//2, interval=25, \n",
    "                               blit=True)\n",
    "\n",
    "# HTML(anim.to_html5_video())"
   ]
  },
  {
   "cell_type": "code",
   "execution_count": null,
   "metadata": {},
   "outputs": [],
   "source": [
    "def plot_mean_variance_imgs():\n",
    "    average = np.zeros((28, 28))\n",
    "    dev = np.zeros((28, 28))\n",
    "    labels = 2*np.pi*(np.random.rand(N, 2)-0.5)\n",
    "    batch_generator = list(toy.make_batch_generator(labels, [a,b], batch_size))\n",
    "    for i, (batch_img, _ ) in enumerate(batch_generator):\n",
    "        average = average + np.sum(batch_img[:, 0], axis=0)\n",
    "        dev = dev + np.sum(batch_img[:, 0]**2, axis=0)\n",
    "    average = average/i\n",
    "    dev = dev/i\n",
    "\n",
    "    fig, ax = plt.subplots(ncols=2)\n",
    "    ax[0].imshow(average)\n",
    "    ax[1].imshow(average**2-dev)"
   ]
  },
  {
   "cell_type": "code",
   "execution_count": null,
   "metadata": {},
   "outputs": [],
   "source": [
    "# Independent across time\n",
    "a, b = (np.random.rand(2)+1)/2\n",
    "print(a, b)\n",
    "labels = 2*np.pi*(np.random.rand(N, 2)-0.5)\n",
    "\n",
    "batch_generator = toy.make_batch_generator(labels, [a,b], batch_size)\n",
    "\n",
    "device = torch.device(\"cpu\")\n",
    "bottleneck = 10\n",
    "model = VAE(bottleneck=bottleneck).to(device)\n",
    "train_loss = model.fit(batch_generator, max_iter=200)"
   ]
  },
  {
   "cell_type": "code",
   "execution_count": null,
   "metadata": {},
   "outputs": [],
   "source": [
    "plt.plot(train_loss)"
   ]
  },
  {
   "cell_type": "code",
   "execution_count": null,
   "metadata": {},
   "outputs": [],
   "source": [
    "with torch.no_grad():\n",
    "    sample = torch.randn(9, bottleneck).to(device)\n",
    "    sample = model.decode(sample).cpu()"
   ]
  },
  {
   "cell_type": "code",
   "execution_count": null,
   "metadata": {},
   "outputs": [],
   "source": [
    "from itertools import product\n",
    "to_ind = np.array(list(product(range(3), range(3))))\n",
    "\n",
    "fig, ax = plt.subplots(3, 3, sharex=True, sharey=True)\n",
    "fig.set_size_inches((10, 10))\n",
    "for i, img in enumerate(np.array(sample)):\n",
    "    ind = to_ind[i]\n",
    "    ax[ind[0], ind[1]].imshow(img.reshape(28, 28))\n",
    "plt.tight_layout()\n",
    "plt.show()"
   ]
  },
  {
   "cell_type": "code",
   "execution_count": null,
   "metadata": {},
   "outputs": [],
   "source": []
  }
 ],
 "metadata": {
  "kernelspec": {
   "display_name": "Python (testing)",
   "language": "python",
   "name": "testing"
  },
  "language_info": {
   "codemirror_mode": {
    "name": "ipython",
    "version": 3
   },
   "file_extension": ".py",
   "mimetype": "text/x-python",
   "name": "python",
   "nbconvert_exporter": "python",
   "pygments_lexer": "ipython3",
   "version": "3.6.8"
  }
 },
 "nbformat": 4,
 "nbformat_minor": 2
}
